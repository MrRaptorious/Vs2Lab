{
 "cells": [
  {
   "cell_type": "markdown",
   "metadata": {},
   "source": [
    "# Telefonauskunft(Server-Seite)\n",
    "## Aufgabe 1"
   ]
  },
  {
   "cell_type": "code",
   "execution_count": 1,
   "metadata": {},
   "outputs": [
    {
     "ename": "ModuleNotFoundError",
     "evalue": "No module named 'context'",
     "output_type": "error",
     "traceback": [
      "\u001b[0;31m---------------------------------------------------------------------------\u001b[0m",
      "\u001b[0;31mModuleNotFoundError\u001b[0m                       Traceback (most recent call last)",
      "\u001b[0;32m<ipython-input-1-aa50825a453d>\u001b[0m in \u001b[0;36m<module>\u001b[0;34m\u001b[0m\n\u001b[1;32m      1\u001b[0m \u001b[0;32mimport\u001b[0m \u001b[0mlogging\u001b[0m\u001b[0;34m\u001b[0m\u001b[0m\n\u001b[0;32m----> 2\u001b[0;31m \u001b[0;32mfrom\u001b[0m \u001b[0mcontext\u001b[0m \u001b[0;32mimport\u001b[0m \u001b[0mlab_logging\u001b[0m\u001b[0;34m\u001b[0m\u001b[0m\n\u001b[0m\u001b[1;32m      3\u001b[0m \u001b[0;32mimport\u001b[0m \u001b[0msocket\u001b[0m\u001b[0;34m\u001b[0m\u001b[0m\n\u001b[1;32m      4\u001b[0m \u001b[0;32mimport\u001b[0m \u001b[0mconstCS\u001b[0m\u001b[0;34m\u001b[0m\u001b[0m\n\u001b[1;32m      5\u001b[0m \u001b[0mlab_logging\u001b[0m\u001b[0;34m.\u001b[0m\u001b[0msetup\u001b[0m\u001b[0;34m(\u001b[0m\u001b[0;34m)\u001b[0m\u001b[0;34m\u001b[0m\u001b[0m\n",
      "\u001b[0;31mModuleNotFoundError\u001b[0m: No module named 'context'"
     ]
    }
   ],
   "source": [
    "import logging\n",
    "from lib import lab_logging\n",
    "import socket\n",
    "import constCS\n",
    "lab_logging.setup()\n",
    "tel = {'jack': 4098, 'sape': 4139}"
   ]
  },
  {
   "cell_type": "markdown",
   "metadata": {},
   "source": [
    "Telefon-\"Datenbank\" erstellen / Klassen bereitstellen für Socket und Logger. Am besten nur einmal ausführen, ansonten wird der logger mehrfach ausgeführt."
   ]
  },
  {
   "cell_type": "code",
   "execution_count": null,
   "metadata": {},
   "outputs": [],
   "source": [
    "logger = logging.getLogger(\"vs2lab.a1_Telefonauskunft(Server)\")\n",
    "s = socket.socket(socket.AF_INET, socket.SOCK_STREAM)\n",
    "s.setsockopt(socket.SOL_SOCKET, socket.SO_REUSEADDR, 1)\n",
    "s.bind((constCS.HOST, constCS.PORT))\n",
    "logger.info(\"\\nTelefonauskunft gebunden an Socket\\n\" + str(s) + \"\\n\")"
   ]
  },
  {
   "cell_type": "markdown",
   "metadata": {},
   "source": [
    "Logger erstellen / Socket erstellen und an den Port binden der in constCS angegeben wurde. setsockopt() wird verwendet damit man denselben Port öfters verwenden kann nachdem der Telefonauskunftdienst fertig ist. Andernfalls erhält man beim neustarten des Servers mit den gleichen Port als Fehler \"port already in use\"."
   ]
  },
  {
   "cell_type": "code",
   "execution_count": null,
   "metadata": {},
   "outputs": [],
   "source": [
    "s.listen(1)\n",
    "(connection, address) = s.accept()  # returns new socket and address of client"
   ]
  },
  {
   "cell_type": "markdown",
   "metadata": {},
   "source": [
    "Server \"horscht\" auf den Socket und akzeptiert die Verbindung sobald eine Nachricht auf dem Socket ankommt."
   ]
  },
  {
   "cell_type": "code",
   "execution_count": null,
   "metadata": {},
   "outputs": [],
   "source": [
    "while True:  # forever\n",
    "    data = connection.recv(1024)  # receive data from client\n",
    "    logger.info(\"\\n\\\"\" + str(data) + \"\\\"-Nachricht erhalten! \\n\")\n",
    "    if data.decode('utf-8') == \"getall\":\n",
    "        data = \"\"\n",
    "        for k, v in tel.items():\n",
    "            data = data + k +\" \" + str(tel[k]) + \"\\n\"\n",
    "    elif data.decode(\"utf-8\") in tel:\n",
    "        data = str(tel[data.decode('utf-8')])\n",
    "    else:\n",
    "        data = (\"Kein Eintrag vorhanden!\")\n",
    "    if not data:\n",
    "        break  # stop if client stopped\n",
    "    logger.info(\"\\n\\\"\" + str(str(data).encode('utf-8')) + \"\\\" antwort zum Client(\" + str(connection) + \").\\n\")\n",
    "    connection.send(str(data).encode('utf-8'))  # return sent data plus an \"*\"\n",
    "    break\n",
    "connection.close()  # close the connection\n",
    "logger.info(\"\\nServer Socket geschlossen.\\n\")"
   ]
  },
  {
   "cell_type": "markdown",
   "metadata": {},
   "source": [
    "Server decodiert über Socket erhaltene Nachricht. Wenn die Nachricht \"getall\" enthält, werden alle Einträge im Telefonbuch in 'data' gespeichert, encoded und zurück über den Socket zum Client geschickt.\n",
    "Andernfalls wird in der Telefonbuch-\"Datenbank\" nachgeschaut ob ein Eintrag vorhanden ist, der der Nachricht entspricht.\n",
    "Wenn ein passender Eintrag zum Namen gefunden wird, wird die Telefonnummer decodiert und zum Client über das Socket geschickt. Bei keinem passenden Eintrag wird \"Kein Eintrag vorhanden!\" decodiert und zurückgeschickt.\n",
    "Nach senden der Nachricht wird die Verbindung geschlossen."
   ]
  }
 ],
 "metadata": {
  "kernelspec": {
   "display_name": "Python 3",
   "language": "python",
   "name": "python3"
  },
  "language_info": {
   "codemirror_mode": {
    "name": "ipython",
    "version": 3
   },
   "file_extension": ".py",
   "mimetype": "text/x-python",
   "name": "python",
   "nbconvert_exporter": "python",
   "pygments_lexer": "ipython3",
   "version": "3.6.6"
  }
 },
 "nbformat": 4,
 "nbformat_minor": 2
}
