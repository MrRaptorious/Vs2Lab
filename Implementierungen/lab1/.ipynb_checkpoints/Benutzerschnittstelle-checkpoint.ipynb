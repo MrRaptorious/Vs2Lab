{
 "cells": [
  {
   "cell_type": "markdown",
   "metadata": {},
   "source": [
    "# Benutzerschnittstelle (Client-Seite)\n",
    "## Aufgabe 1"
   ]
  },
  {
   "cell_type": "code",
   "execution_count": 1,
   "metadata": {},
   "outputs": [],
   "source": [
    "import logging\n",
    "from lib import lab_logging\n",
    "import socket\n",
    "import constCS\n",
    "lab_logging.setup()"
   ]
  },
  {
   "cell_type": "markdown",
   "metadata": {},
   "source": [
    "Klassen für Socket und Logger Erstellung bereitstellen. Am besten nur einmal ausführen ansonsten wird der logger mehrfach ausgeführt."
   ]
  },
  {
   "cell_type": "code",
   "execution_count": 2,
   "metadata": {},
   "outputs": [],
   "source": [
    "logger = logging.getLogger(\"vs2lab.a1_Benutzerschnittstelle(Client)\")\n",
    "s = socket.socket(socket.AF_INET, socket.SOCK_STREAM)\n",
    "s.connect((constCS.HOST, constCS.PORT))  # connect to server (block until accepted)\n",
    "logger.info(\"\\nClient gebunden an Socket \\n\" + str(s) + \"\\n\")"
   ]
  },
  {
   "cell_type": "markdown",
   "metadata": {},
   "source": [
    "Logger erstellen / Socket erstellen und mit Port verbinden der in constCS angegeben wurde."
   ]
  },
  {
   "cell_type": "code",
   "execution_count": 3,
   "metadata": {},
   "outputs": [
    {
     "name": "stdout",
     "output_type": "stream",
     "text": [
      "Funktion wählen: \n",
      "getall\n"
     ]
    }
   ],
   "source": [
    "while True:\n",
    "    inputtext = input(\"Funktion wählen: \\n\").split(\" \")\n",
    "    if inputtext[0] == \"get\":\n",
    "        if len(inputtext) > 1:\n",
    "            s.send(inputtext[1].encode('utf-8'))\n",
    "            logger.info(inputtext[1] + \" über \" + str(s) + \" geschickt!\\n\")\n",
    "            break\n",
    "        print(\"Name angeben!/n\")\n",
    "    elif inputtext[0] == \"getall\":\n",
    "        s.send(inputtext[0].encode('utf-8'))\n",
    "        logger.info(\"\\n\\\"\" + inputtext[0] + \"\\\"-über Socket\\n\" + str(s) + \"\\ngeschickt!\\n\")\n",
    "        break\n",
    "    else:\n",
    "        print(\"get NAME oder getall benutzen! \\n\")"
   ]
  },
  {
   "cell_type": "markdown",
   "metadata": {},
   "source": [
    "Benutzerschnittstelle wartet auf Befehlseingabe. 'get' verlangt als Parameter einen Namen.\n",
    "Sollte 'get NAME' aufgerufen werden, wird NAME encoded und über das Socket zum Server geschickt.\n",
    "Bei 'getall' wird der Befehl 'getall' encoded und verschickt. Bei falscher Eingabe wird auf die korrekte Benutzung hingewiesen."
   ]
  },
  {
   "cell_type": "code",
   "execution_count": 4,
   "metadata": {},
   "outputs": [
    {
     "name": "stdout",
     "output_type": "stream",
     "text": [
      "jack 4098\n",
      "sape 4139\n",
      "\n"
     ]
    }
   ],
   "source": [
    "data = s.recv(1024)  # receive the response\n",
    "logger.info(\"\\n\\\"\" + str(data) + \"\\\"\" + \" als Antwort erhalten!\\n\")\n",
    "print(data.decode('utf-8'))  # print the result\n",
    "s.close()  # close the connection\n",
    "logger.info(\"\\nBenutzerschnittstelle(Client)-Socket geschlossen.\\n\")"
   ]
  },
  {
   "cell_type": "markdown",
   "metadata": {},
   "source": [
    "recv() empfängt Daten vom Socket die vom Telefondienst verschickt worden sind. Diese müssen vor benutzung decodiert werden. Nach Ausgabe der Telefonnummer wird die Verbindung geschlossen."
   ]
  }
 ],
 "metadata": {
  "kernelspec": {
   "display_name": "Python 3",
   "language": "python",
   "name": "python3"
  },
  "language_info": {
   "codemirror_mode": {
    "name": "ipython",
    "version": 3
   },
   "file_extension": ".py",
   "mimetype": "text/x-python",
   "name": "python",
   "nbconvert_exporter": "python",
   "pygments_lexer": "ipython3",
   "version": "3.6.6"
  }
 },
 "nbformat": 4,
 "nbformat_minor": 2
}
