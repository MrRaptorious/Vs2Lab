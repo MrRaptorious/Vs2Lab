{
 "cells": [
  {
   "cell_type": "code",
   "execution_count": 2,
   "metadata": {},
   "outputs": [],
   "source": [
    "import os\n",
    "import time\n",
    "import socket\n",
    "import constCS\n",
    "import logging\n",
    "from lib import lab_logging\n",
    "lab_logging.setup()"
   ]
  },
  {
   "cell_type": "code",
   "execution_count": 3,
   "metadata": {},
   "outputs": [],
   "source": [
    "class Benutzerschnittstelle:\n",
    "    logger = logging.getLogger(\"vs2lab.a1_Benutzerschnittstelle(Client)\")\n",
    "    \n",
    "    def __init__(self):\n",
    "        self.s = socket.socket(socket.AF_INET, socket.SOCK_STREAM)\n",
    "        self.s.connect((constCS.HOST, constCS.PORT))  # connect to server (block until accepted)\n",
    "        self.logger.info(\"\\nClient gebunden an Socket \\n\" + str(self.s) + \"\\n\")\n",
    "\n",
    "    def call(self, befehl):     #better use getCommand if you want to use it on a consol!\n",
    "        while True:\n",
    "            inputtext = befehl.split(\" \")\n",
    "            if inputtext[0] == \"get\":\n",
    "                if len(inputtext) > 1:\n",
    "                    self.s.send(inputtext[1].encode('utf-8'))\n",
    "                    self.logger.info(inputtext[1] + \" über \" + str(self.s) + \" geschickt!\\n\")\n",
    "                    break\n",
    "                print(\"Name angeben!/n\")\n",
    "            elif inputtext[0] == \"getall\":\n",
    "                self.s.send(inputtext[0].encode('utf-8'))\n",
    "                self.logger.info(\"\\n\\\"\" + inputtext[0] + \"\\\"-über Socket\\n\" + str(self.s) + \"\\ngeschickt!\\n\")\n",
    "                break\n",
    "            else:\n",
    "                befehl = input(\"get NAME oder getall benutzen! \\n\")\n",
    "            \n",
    "        data = self.s.recv(1024)  # receive the response\n",
    "        self.logger.info(\"\\n\\\"\" + str(data) + \"\\\"\" + \" als Antwort erhalten!\\n\")\n",
    "        print(data.decode('utf-8'))  # print the result\n",
    "        self.s.close()  # close the connection\n",
    "        self.logger.info(\"\\nBenutzerschnittstelle(Client)-Socket geschlossen.\\n\")\n",
    "        return data.decode('utf-8')\n",
    "    \n",
    "    def getCommand(self):\n",
    "        self.call(input(\"Funktion wählen: \\n\"))"
   ]
  },
  {
   "cell_type": "code",
   "execution_count": 4,
   "metadata": {},
   "outputs": [],
   "source": [
    "class Telefonauskunft:\n",
    "    tel = {'jack': 4098, 'sape': 4139}\n",
    "    logger = logging.getLogger(\"vs2lab.a1_Telefonauskunft(Server)\")\n",
    "    \n",
    "    def __init__(self):        \n",
    "        self.s = socket.socket(socket.AF_INET, socket.SOCK_STREAM)\n",
    "        self.s.setsockopt(socket.SOL_SOCKET, socket.SO_REUSEADDR, 1)\n",
    "        self.s.bind((constCS.HOST, constCS.PORT))\n",
    "        self.logger.info(\"\\nTelefonauskunft gebunden an Socket\\n\" + str(self.s) + \"\\n\")    \n",
    "    \n",
    "    def serve(self):\n",
    "        self.s.listen(1)\n",
    "        (connection, address) = self.s.accept()  # returns new socket and address of client\n",
    "        while True:  # forever\n",
    "            data = connection.recv(1024)  # receive data from client\n",
    "            self.logger.info(\"\\n\\\"\" + str(data) + \"\\\"-Nachricht erhalten! \\n\")\n",
    "            if data.decode('utf-8') == \"getall\":\n",
    "                data = \"\"\n",
    "                for k, v in self.tel.items():\n",
    "                    data = data + k +\" \" + str(self.tel[k]) + \"\\n\"\n",
    "            elif data.decode(\"utf-8\") in self.tel:\n",
    "                data = self.tel[data.decode('utf-8')]\n",
    "            else:\n",
    "                data = (\"Kein Eintrag vorhanden!\")\n",
    "            if not data:\n",
    "                break  # stop if client stopped\n",
    "            self.logger.info(\"\\n\\\"\" + str(str(data).encode('utf-8')) + \"\\\" antwort zum Client(\" + str(connection) + \").\\n\")\n",
    "            connection.send(str(data).encode('utf-8'))\n",
    "            break\n",
    "        connection.close()  # close the connection\n",
    "        self.logger.info(\"\\nServer Socket geschlossen.\\n\")\n",
    "        return data\n",
    "    \n",
    "    def shutmedown(self):\n",
    "        self.s.close() "
   ]
  },
  {
   "cell_type": "code",
   "execution_count": 5,
   "metadata": {},
   "outputs": [],
   "source": [
    "server = Telefonauskunft() # must be init on parent process or else jupyter notebook is going to complain\n",
    "pid = os.fork()\n",
    "if pid == 0:\n",
    "    server.serve()\n",
    "    os._exit(0)\n",
    "server.shutmedown() #stop the server on parent process"
   ]
  },
  {
   "cell_type": "code",
   "execution_count": 6,
   "metadata": {},
   "outputs": [
    {
     "name": "stdout",
     "output_type": "stream",
     "text": [
      "Funktion wählen: \n",
      "getall\n",
      "jack 4098\n",
      "sape 4139\n",
      "\n"
     ]
    }
   ],
   "source": [
    "time.sleep(.1) # waiting a bit for the process to be forked and the server to setup\n",
    "user = Benutzerschnittstelle()\n",
    "user.getCommand()"
   ]
  },
  {
   "cell_type": "code",
   "execution_count": null,
   "metadata": {},
   "outputs": [],
   "source": []
  }
 ],
 "metadata": {
  "kernelspec": {
   "display_name": "Python 3",
   "language": "python",
   "name": "python3"
  },
  "language_info": {
   "codemirror_mode": {
    "name": "ipython",
    "version": 3
   },
   "file_extension": ".py",
   "mimetype": "text/x-python",
   "name": "python",
   "nbconvert_exporter": "python",
   "pygments_lexer": "ipython3",
   "version": "3.6.6"
  }
 },
 "nbformat": 4,
 "nbformat_minor": 2
}
